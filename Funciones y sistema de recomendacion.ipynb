{
 "cells": [
  {
   "cell_type": "markdown",
   "metadata": {},
   "source": [
    "Aqui comenzare con las funciones y el sistema de recomendacion."
   ]
  },
  {
   "cell_type": "markdown",
   "metadata": {},
   "source": [
    "Importamos las librerias"
   ]
  },
  {
   "cell_type": "code",
   "execution_count": 1,
   "metadata": {},
   "outputs": [],
   "source": [
    "import pandas as pd\n",
    "import pyarrow.parquet as pq"
   ]
  },
  {
   "cell_type": "markdown",
   "metadata": {},
   "source": [
    "Cargamos los archivos"
   ]
  },
  {
   "cell_type": "code",
   "execution_count": 2,
   "metadata": {},
   "outputs": [],
   "source": [
    "reviews = pd.read_csv('nueva data/reviews.csv')\n",
    "items = pq.read_table(\"nueva data/items_parquet.parquet\").to_pandas()\n",
    "games = pd.read_csv(\"nueva data/games.csv\")\n",
    "games_model = pd.read_csv('nueva data/games_model.csv')"
   ]
  },
  {
   "cell_type": "markdown",
   "metadata": {},
   "source": [
    "Primera funcion:"
   ]
  },
  {
   "cell_type": "code",
   "execution_count": 7,
   "metadata": {},
   "outputs": [],
   "source": [
    "def developer(dev,games,items):\n",
    "    #Eliminamos las filas vacias en price y id\n",
    "    games.dropna(subset=['price','id'],inplace=True)\n",
    "\n",
    "    #Cambiamos los tipos de datos de games['id'] y items['id']\n",
    "    games['id'] = games['id'].astype(int)\n",
    "    items['id'] = items['id'].astype(int)\n",
    "\n",
    "    #Filtramos games por el desarrolador seleccionado y reseteamos el indice\n",
    "    games_developer_select = games[games['developer'] == dev.capitalize()].reset_index()\n",
    "\n",
    "    #seleccionamos las columnas con las que trabajaremos\n",
    "    games_dev_all = games_developer_select[['release_date','id']]\n",
    "\n",
    "    #hacemos un primer merge para unir los juegos con los items\n",
    "    merge = pd.merge(items[['id','user_id']],games_dev_all,on='id')\n",
    "\n",
    "    #hacemos un conteo de items por año, reseteamos el indice y renombramos la columna\n",
    "    recuento = merge.groupby('release_date').agg({'user_id':'count'}).reset_index()\n",
    "    recuento.rename({'user_id':'cantidad_items'},axis=1,inplace=True)\n",
    "\n",
    "    #Ahora filtramos los juegos gratis\n",
    "    games_dev_free = games_developer_select[games_developer_select['price'] == '0']\n",
    "\n",
    "    #ahora hacemos un merge con los juegos gratis y items, tambien hacemos un groupby con un recuento de items gratis y renombramos una columna\n",
    "    merge_2 = pd.merge(games_dev_free[['release_date','id']],items[['id','user_id']],on='id')\n",
    "    recuento_2 = merge_2.groupby('release_date').agg({'user_id':'count'}).reset_index()\n",
    "    recuento_2.rename({'user_id':'cantidad_items_free'},axis=1,inplace=True)\n",
    "\n",
    "    #creamos un tercer merge con los 2 recuentos\n",
    "    merge_3 = recuento.merge(recuento_2,on='release_date',how='left').fillna(0)\n",
    "\n",
    "    #calculamos y pasamos a porcentaje la columna calculada\n",
    "    merge_3['contenido_Free'] = (recuento_2['cantidad_items_free'] / recuento['cantidad_items'] * 100).fillna(0)\n",
    "    merge_3['contenido_Free'] = merge_3['contenido_Free'].apply(lambda x: f'{x}%')\n",
    "\n",
    "    #por ultimo eliminamos la columna cantidad_items_free y renombramos release_date\n",
    "    merge_3.drop('cantidad_items_free',axis=1,inplace=True)\n",
    "    merge_3.rename({'release_date':'año'},axis=1,inplace=True)\n",
    "\n",
    "    return merge_3"
   ]
  },
  {
   "cell_type": "markdown",
   "metadata": {},
   "source": [
    "Realizamos una prueba: "
   ]
  },
  {
   "cell_type": "code",
   "execution_count": 8,
   "metadata": {},
   "outputs": [
    {
     "data": {
      "text/html": [
       "<div>\n",
       "<style scoped>\n",
       "    .dataframe tbody tr th:only-of-type {\n",
       "        vertical-align: middle;\n",
       "    }\n",
       "\n",
       "    .dataframe tbody tr th {\n",
       "        vertical-align: top;\n",
       "    }\n",
       "\n",
       "    .dataframe thead th {\n",
       "        text-align: right;\n",
       "    }\n",
       "</style>\n",
       "<table border=\"1\" class=\"dataframe\">\n",
       "  <thead>\n",
       "    <tr style=\"text-align: right;\">\n",
       "      <th></th>\n",
       "      <th>año</th>\n",
       "      <th>cantidad_items</th>\n",
       "      <th>contenido_Free</th>\n",
       "    </tr>\n",
       "  </thead>\n",
       "  <tbody>\n",
       "    <tr>\n",
       "      <th>0</th>\n",
       "      <td>1998</td>\n",
       "      <td>7750</td>\n",
       "      <td>0.0%</td>\n",
       "    </tr>\n",
       "    <tr>\n",
       "      <th>1</th>\n",
       "      <td>1999</td>\n",
       "      <td>6334</td>\n",
       "      <td>0.0%</td>\n",
       "    </tr>\n",
       "    <tr>\n",
       "      <th>2</th>\n",
       "      <td>2000</td>\n",
       "      <td>13044</td>\n",
       "      <td>0.0%</td>\n",
       "    </tr>\n",
       "    <tr>\n",
       "      <th>3</th>\n",
       "      <td>2001</td>\n",
       "      <td>3274</td>\n",
       "      <td>0.0%</td>\n",
       "    </tr>\n",
       "    <tr>\n",
       "      <th>4</th>\n",
       "      <td>2003</td>\n",
       "      <td>3465</td>\n",
       "      <td>0.0%</td>\n",
       "    </tr>\n",
       "    <tr>\n",
       "      <th>5</th>\n",
       "      <td>2004</td>\n",
       "      <td>72060</td>\n",
       "      <td>0.0%</td>\n",
       "    </tr>\n",
       "    <tr>\n",
       "      <th>6</th>\n",
       "      <td>2006</td>\n",
       "      <td>26602</td>\n",
       "      <td>0.0%</td>\n",
       "    </tr>\n",
       "    <tr>\n",
       "      <th>7</th>\n",
       "      <td>2007</td>\n",
       "      <td>31834</td>\n",
       "      <td>0.0%</td>\n",
       "    </tr>\n",
       "    <tr>\n",
       "      <th>8</th>\n",
       "      <td>2008</td>\n",
       "      <td>6585</td>\n",
       "      <td>0.0%</td>\n",
       "    </tr>\n",
       "    <tr>\n",
       "      <th>9</th>\n",
       "      <td>2009</td>\n",
       "      <td>37044</td>\n",
       "      <td>0.0%</td>\n",
       "    </tr>\n",
       "    <tr>\n",
       "      <th>10</th>\n",
       "      <td>2010</td>\n",
       "      <td>4978</td>\n",
       "      <td>0.0%</td>\n",
       "    </tr>\n",
       "    <tr>\n",
       "      <th>11</th>\n",
       "      <td>2011</td>\n",
       "      <td>24465</td>\n",
       "      <td>0.0%</td>\n",
       "    </tr>\n",
       "    <tr>\n",
       "      <th>12</th>\n",
       "      <td>2012</td>\n",
       "      <td>43776</td>\n",
       "      <td>0.0%</td>\n",
       "    </tr>\n",
       "  </tbody>\n",
       "</table>\n",
       "</div>"
      ],
      "text/plain": [
       "     año  cantidad_items contenido_Free\n",
       "0   1998            7750           0.0%\n",
       "1   1999            6334           0.0%\n",
       "2   2000           13044           0.0%\n",
       "3   2001            3274           0.0%\n",
       "4   2003            3465           0.0%\n",
       "5   2004           72060           0.0%\n",
       "6   2006           26602           0.0%\n",
       "7   2007           31834           0.0%\n",
       "8   2008            6585           0.0%\n",
       "9   2009           37044           0.0%\n",
       "10  2010            4978           0.0%\n",
       "11  2011           24465           0.0%\n",
       "12  2012           43776           0.0%"
      ]
     },
     "execution_count": 8,
     "metadata": {},
     "output_type": "execute_result"
    }
   ],
   "source": [
    "developer('valve',games,items)"
   ]
  },
  {
   "cell_type": "markdown",
   "metadata": {},
   "source": [
    "Segunda funcion:"
   ]
  },
  {
   "cell_type": "code",
   "execution_count": 5,
   "metadata": {},
   "outputs": [],
   "source": [
    "def userdata(user,games,items,reviews):\n",
    "\n",
    "    #realizamos un filtro con el usuario ingresado\n",
    "    user = items[items['user_id'] == str(user)].reset_index(drop=True)\n",
    "\n",
    "    #hacemos un merge para obtener datos de games y cambiamos el tipo de dato de la columna price\n",
    "    merge = user.merge(games[['id','price']])\n",
    "    merge['price'] = merge['price'].astype(float)\n",
    "\n",
    "    #realizamos un groupby de el usuario, un recuento con el id, una suma de price y un reseteo del indice\n",
    "    merge_1 = merge.groupby('user_id').agg({'id':'count','price':'sum'}).reset_index()\n",
    "\n",
    "    #realizamos un merge de los datos del usuario filtrado con reviews y eliminamos duplicados\n",
    "    user_reviews = user.merge(reviews[['user_id','recommend']])\n",
    "    user_reviews.drop_duplicates(subset='id',inplace=True)\n",
    "\n",
    "    #realizamos un groupby para realizar un recuento de reviews y reseteamos el indice\n",
    "    Cantidad_reviews = user_reviews.groupby('user_id').agg({'id':'count'}).reset_index()\n",
    "\n",
    "    #en 2 variables guardamos la cantidad de reviews que hizo el usuario y la cantidad de reviews recomendadas\n",
    "    cantidad = Cantidad_reviews['id'][0]\n",
    "    recomendados = user_reviews['recommend'].sum()\n",
    "\n",
    "    #retornamos\n",
    "    return (f\"Usuario: {merge_1['user_id'][0]}, dinero gastado: {merge_1['price'][0]}$, porcentaje de recomendacion: {(recomendados//cantidad)*100}%, cantidad de items: {merge_1['id'][0]}\")"
   ]
  },
  {
   "cell_type": "markdown",
   "metadata": {},
   "source": [
    "Realizamos una prueba"
   ]
  },
  {
   "cell_type": "code",
   "execution_count": 6,
   "metadata": {},
   "outputs": [
    {
     "data": {
      "text/plain": [
       "'Usuario: 76561197970982479, dinero gastado: 3399.33$, porcentaje de recomendacion: 100%, cantidad de items: 226'"
      ]
     },
     "execution_count": 6,
     "metadata": {},
     "output_type": "execute_result"
    }
   ],
   "source": [
    "userdata(76561197970982479,games,items,reviews)"
   ]
  },
  {
   "cell_type": "markdown",
   "metadata": {},
   "source": [
    "Tercera Funcion:"
   ]
  },
  {
   "cell_type": "code",
   "execution_count": 7,
   "metadata": {},
   "outputs": [],
   "source": [
    "def UserForGenre(genre,games,items):\n",
    "    #eliminamos los datos nulos en la columna genres\n",
    "    games.dropna(subset='genres',inplace=True)\n",
    "\n",
    "    #aplicamos un filtro con el genero ingresado\n",
    "    juegos_genero_steam = games[games['genres'].str.lower().str.contains(genre)]\n",
    "    juegos_genero_items = items[items['game'].isin(juegos_genero_steam['game'])]\n",
    "\n",
    "    #hacemos un merge\n",
    "    df_combinado = pd.merge(juegos_genero_items, juegos_genero_steam[['game', 'release_date']], on='game')\n",
    "\n",
    "    #hacemos un groupby de los diferentes usuarios, hacemos una suma de sus horas jugadas y reseteamos el indice\n",
    "    playtime_user = df_combinado.groupby('user_id').agg({'playtime_forever':'sum'}).reset_index()\n",
    "\n",
    "    #obtenemos el usuario con mas horas jugadas de ese genero\n",
    "    user = playtime_user[playtime_user['playtime_forever'] == (playtime_user['playtime_forever'].max())]\n",
    "    user = user['user_id'].values[0]\n",
    "\n",
    "    #filtramos ese usuario, hacemos un groupby con cada año y sus horas jugadas\n",
    "    data_user = df_combinado[df_combinado['user_id'] == user]\n",
    "    playtime_year = data_user.groupby('release_date').agg({'playtime_forever':'sum'}).reset_index()\n",
    "\n",
    "    #hacemos una lista y un for para ir cargando los diccionarios a nuestra lista\n",
    "    lista = []\n",
    "    for i in range(len(playtime_year['release_date'].values)):\n",
    "        dic = {'año':playtime_year['release_date'].values[i], 'horas':playtime_year['playtime_forever'].values[i]}\n",
    "        lista.append(dic)\n",
    "\n",
    "    #retornamos los resultados\n",
    "    return (f\"El usuario con mas horas jugadas para el genero:{genre} es:{user}, horas jugadas: {lista}\")"
   ]
  },
  {
   "cell_type": "markdown",
   "metadata": {},
   "source": [
    "Realizamos una prueba:"
   ]
  },
  {
   "cell_type": "code",
   "execution_count": 8,
   "metadata": {},
   "outputs": [
    {
     "data": {
      "text/plain": [
       "\"El usuario con mas horas jugadas para el genero:action es:shinomegami, horas jugadas: [{'año': 1988, 'horas': 136.0}, {'año': 1991, 'horas': 0.0}, {'año': 1992, 'horas': 0.0}, {'año': 1993, 'horas': 0.0}, {'año': 1994, 'horas': 0.0}, {'año': 1995, 'horas': 2.0}, {'año': 1996, 'horas': 1161.0}, {'año': 1997, 'horas': 99.0}, {'año': 1998, 'horas': 3716.0}, {'año': 1999, 'horas': 303.0}, {'año': 2000, 'horas': 10775.0}, {'año': 2001, 'horas': 2429.0}, {'año': 2002, 'horas': 0.0}, {'año': 2003, 'horas': 532756.0}, {'año': 2004, 'horas': 120.0}, {'año': 2005, 'horas': 343.0}, {'año': 2006, 'horas': 2043.0}, {'año': 2007, 'horas': 68354.0}, {'año': 2008, 'horas': 180.0}, {'año': 2009, 'horas': 209805.0}, {'año': 2010, 'horas': 9405.0}, {'año': 2011, 'horas': 89382.0}, {'año': 2012, 'horas': 18284.0}, {'año': 2013, 'horas': 146583.0}, {'año': 2014, 'horas': 92080.0}, {'año': 2015, 'horas': 101449.0}, {'año': 2016, 'horas': 42563.0}, {'año': 2017, 'horas': 135.0}]\""
      ]
     },
     "execution_count": 8,
     "metadata": {},
     "output_type": "execute_result"
    }
   ],
   "source": [
    "UserForGenre('action',games,items)"
   ]
  },
  {
   "cell_type": "markdown",
   "metadata": {},
   "source": [
    "Cuarta Funcion: "
   ]
  },
  {
   "cell_type": "code",
   "execution_count": 9,
   "metadata": {},
   "outputs": [],
   "source": [
    "def best_developer_year(year,games,reviews):\n",
    "    #filtramos los datos de games por año\n",
    "    games_year = games[games['release_date'] == int(year)]\n",
    "\n",
    "    #hacemos un condicional para que si no hay datos vacios le devuelva un mensaje al usuario\n",
    "    # y si hay datos guarde el merge en una variable\n",
    "    if games_year.merge(reviews,on='id').empty:\n",
    "        return (\"No hay registros de este año, ingrese otro año\")\n",
    "    games_year_reviews = games_year.merge(reviews,on='id')\n",
    "\n",
    "    #hacemo un filtro para obtener los recomendados y los de reviews positivos\n",
    "    games_year_reviews[(games_year_reviews['recommend'] == 1) & (games_year_reviews['sentiment analysis'] == 2)]\n",
    "\n",
    "    #hacemos una agrupacion de los desarrolladores y realizamos \n",
    "    dev_recommend = games_year_reviews.groupby('developer').agg({'recommend':'count','sentiment analysis':'count'}).reset_index()\n",
    "\n",
    "    #realizamos una suma de los conteos y guardamos en una nueva columna\n",
    "    dev_recommend['suma_recommend'] = dev_recommend['recommend'] + dev_recommend['sentiment analysis']\n",
    "\n",
    "    #obtenemos los indices\n",
    "    indices = dev_recommend['suma_recommend'].nlargest(3).index\n",
    "\n",
    "    return(f\"Puesto 1: {dev_recommend['developer'][indices[0]]}, Puesto 2: {dev_recommend['developer'][indices[1]]}, Puesto 3: {dev_recommend['developer'][indices[2]]}\")"
   ]
  },
  {
   "cell_type": "markdown",
   "metadata": {},
   "source": [
    "Realizamos una prueba:"
   ]
  },
  {
   "cell_type": "code",
   "execution_count": 10,
   "metadata": {},
   "outputs": [
    {
     "data": {
      "text/plain": [
       "'Puesto 1: Smartly Dressed Games, Puesto 2: Freejam, Puesto 3: Studio Wildcard,Instinct Games,Efecto Studios,Virtual Basement LLC'"
      ]
     },
     "execution_count": 10,
     "metadata": {},
     "output_type": "execute_result"
    }
   ],
   "source": [
    "best_developer_year(2017,games,reviews)"
   ]
  },
  {
   "cell_type": "markdown",
   "metadata": {},
   "source": [
    "Quinta Funcion:"
   ]
  },
  {
   "cell_type": "code",
   "execution_count": 32,
   "metadata": {},
   "outputs": [],
   "source": [
    "def developer(dev,games,reviews):\n",
    "    #aplicamos un filtro para tener solo el desarollador ingresado\n",
    "    games_dev = games[games['developer'] == str(dev).capitalize()]\n",
    "\n",
    "    #hacemos una condicional para indicar si el desarrollador ingresado es valido o si hay datos\n",
    "    if games_dev.empty:\n",
    "        (\"no se encuentran datos de el desarrolador ingresado, intente otro\")\n",
    "\n",
    "    #realizamos un merge, hacemos un groupby con el recuento de los analisys y reseteamos el indice\n",
    "    merge = games_dev.merge(reviews,on='id')\n",
    "    merge = merge.groupby('sentiment analysis').agg({'developer':'count'}).reset_index()\n",
    "    #nos quedamos con las filas que no sean neutras \n",
    "    merge = merge[merge['sentiment analysis'] != 1]  \n",
    "    #retornamos\n",
    "    return {dev:list(merge['developer'].values)}"
   ]
  },
  {
   "cell_type": "markdown",
   "metadata": {},
   "source": [
    "Realizamos una prueba:"
   ]
  },
  {
   "cell_type": "code",
   "execution_count": 33,
   "metadata": {},
   "outputs": [
    {
     "data": {
      "text/plain": [
       "{'Valve': [1219, 6149]}"
      ]
     },
     "execution_count": 33,
     "metadata": {},
     "output_type": "execute_result"
    }
   ],
   "source": [
    "developer('Valve',games,reviews)"
   ]
  },
  {
   "cell_type": "markdown",
   "metadata": {},
   "source": [
    "Seguire con los sistemas de recomendacion:"
   ]
  },
  {
   "cell_type": "markdown",
   "metadata": {},
   "source": [
    "Item-item:"
   ]
  },
  {
   "cell_type": "code",
   "execution_count": 82,
   "metadata": {},
   "outputs": [],
   "source": [
    "def item_item(id,games_model):\n",
    "    #hacemos un copia de nuestro dataframe games_model y elimninamos las columnas id y game\n",
    "    games_copy = games_model.copy()\n",
    "    games_copy.drop(['game','id'],axis=1,inplace=True)\n",
    "\n",
    "    #importamos el cosine_similarity \n",
    "    from sklearn.metrics.pairwise import cosine_similarity\n",
    "\n",
    "    #reemplazamos los datos de games_copy con los resultados de la funcion cosine_similarity y convertimos en un dataframe\n",
    "    games_copy = cosine_similarity(games_copy)\n",
    "    games_copy = pd.DataFrame(games_copy)\n",
    "\n",
    "    #obtenemos el indice del id del juego ingresado\n",
    "    index = games_model[games_model['id'] == id].index[0]\n",
    "\n",
    "    #obtenemos los indices de las mejores recomendaciones\n",
    "    recommend = games_copy[index].sort_values(ascending=False).iloc[1:6].index\n",
    "\n",
    "    #localizamos las recomendaciones y obtenemos el id y el nombre\n",
    "    recommend = games_model.loc[recommend, ['id','game']].values\n",
    "\n",
    "    return(f'estos son los juegos recomendados con sus ids y nombres: 1 id:{int(recommend[0][0])}  name: {recommend[0][1]}, 2 id:{int(recommend[1][0])} name: {recommend[1][1]}, 3 id:{int(recommend[2][0])} name: {recommend[2][1]}, 4 id:{int(recommend[3][0])} name: {recommend[3][1]}, 5 id:{int(recommend[4][0])} name: {recommend[4][1]}.')"
   ]
  },
  {
   "cell_type": "markdown",
   "metadata": {},
   "source": [
    "Realizamos un prueba:"
   ]
  },
  {
   "cell_type": "code",
   "execution_count": 83,
   "metadata": {},
   "outputs": [
    {
     "data": {
      "text/plain": [
       "'estos son los juegos recomendados con sus ids y nombres: 1 id:60  name: Ricochet, 2 id:2350 name: QUAKE III: Team Arena, 3 id:560170 name: STAR WARS™ SHADOWS OF THE EMPIRE™, 4 id:32380 name: STAR WARS™ Jedi Knight: Dark Forces II, 5 id:356210 name: Tony Tough and the Night of Roasted Moths.'"
      ]
     },
     "execution_count": 83,
     "metadata": {},
     "output_type": "execute_result"
    }
   ],
   "source": [
    "item_item(10,games_model)"
   ]
  },
  {
   "cell_type": "markdown",
   "metadata": {},
   "source": [
    "User-items:"
   ]
  },
  {
   "cell_type": "code",
   "execution_count": 84,
   "metadata": {},
   "outputs": [],
   "source": [
    "def user_item(user,items,games_model):\n",
    "    # filtramos los usuarios para traer todos los juegos jugados por el.\n",
    "    items = items[items['user_id'] == str(user)]\n",
    "    #traeré el id del juego mas jugado por ese usuario.\n",
    "    max = items['playtime_forever'].idxmax()\n",
    "    id_game = items['id'].iloc[max]\n",
    "    #Usaré el id del juego y lo metemos a la función que habia creado antes para encontrar los 5 juegos recomendados\n",
    "    return item_item(id_game,games_model)"
   ]
  },
  {
   "cell_type": "markdown",
   "metadata": {},
   "source": [
    "Realizamos un prueba:"
   ]
  },
  {
   "cell_type": "code",
   "execution_count": 85,
   "metadata": {},
   "outputs": [
    {
     "data": {
      "text/plain": [
       "'estos son los juegos recomendados con sus ids y nombres: 1 id:211994  name: Hacker Evolution Duality: Inception Part 2 DLC, 2 id:221020 name: Towns, 3 id:356550 name: East Tower - Kuon, 4 id:32160 name: Zombie Bowl-o-Rama, 5 id:389460 name: Robot vs Birds Zombies.'"
      ]
     },
     "execution_count": 85,
     "metadata": {},
     "output_type": "execute_result"
    }
   ],
   "source": [
    "user_item(76561197970982479,items,games_model)"
   ]
  }
 ],
 "metadata": {
  "kernelspec": {
   "display_name": "Python 3",
   "language": "python",
   "name": "python3"
  },
  "language_info": {
   "codemirror_mode": {
    "name": "ipython",
    "version": 3
   },
   "file_extension": ".py",
   "mimetype": "text/x-python",
   "name": "python",
   "nbconvert_exporter": "python",
   "pygments_lexer": "ipython3",
   "version": "3.10.11"
  }
 },
 "nbformat": 4,
 "nbformat_minor": 2
}
