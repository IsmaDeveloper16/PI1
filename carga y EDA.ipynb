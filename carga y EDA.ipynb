{
 "cells": [
  {
   "cell_type": "markdown",
   "metadata": {},
   "source": [
    "Importo las librerias que estare utilizando"
   ]
  },
  {
   "cell_type": "code",
   "execution_count": 1,
   "metadata": {},
   "outputs": [],
   "source": [
    "import pandas as pd\n",
    "import numpy as np\n",
    "import ast"
   ]
  },
  {
   "cell_type": "markdown",
   "metadata": {},
   "source": [
    "Comienzo las cargas de archivos a un dataframe"
   ]
  },
  {
   "cell_type": "code",
   "execution_count": 2,
   "metadata": {},
   "outputs": [],
   "source": [
    "reviews = []\n",
    "with open('data/australian_user_reviews.json', 'r', encoding='utf-8') as f:\n",
    "    for line in f.readlines():\n",
    "        reviews.append(ast.literal_eval(line))\n",
    "\n",
    "# Crear el DataFrame anidado\n",
    "df_reviews = pd.DataFrame(reviews)"
   ]
  },
  {
   "cell_type": "code",
   "execution_count": 3,
   "metadata": {},
   "outputs": [],
   "source": [
    "items = []\n",
    "with open('data/australian_users_items.json', 'r', encoding='utf-8') as f:\n",
    "    for line in f.readlines():\n",
    "        items.append(ast.literal_eval(line))\n",
    "\n",
    "# Crear el DataFrame anidado\n",
    "df_items = pd.DataFrame(items)"
   ]
  },
  {
   "cell_type": "code",
   "execution_count": 4,
   "metadata": {},
   "outputs": [],
   "source": [
    "import json\n",
    "\n",
    "# Lista para almacenar los objetos JSON \n",
    "user_games = []\n",
    "\n",
    "# Abre el archivo JSON y carga su contenido en un diccionario\n",
    "with open('data/output_steam_games.json', 'r', encoding='utf-8') as f:\n",
    "    for line in f.readlines():\n",
    "        try:\n",
    "            json_data = json.loads(line)\n",
    "            user_games.append(json_data)\n",
    "        except json.JSONDecodeError as e:\n",
    "            print(f\"Error al decodificar JSON en línea: {e}\")\n",
    "\n",
    "# Crear el DataFrame anidado\n",
    "df_games = pd.DataFrame(user_games)"
   ]
  },
  {
   "cell_type": "markdown",
   "metadata": {},
   "source": [
    "Aqui Comenzare con el EDA"
   ]
  },
  {
   "cell_type": "markdown",
   "metadata": {},
   "source": [
    "Comenzare con **df_reviews**"
   ]
  },
  {
   "cell_type": "markdown",
   "metadata": {},
   "source": [
    "Lo primero que hare sera desanidar reviews para poder hacer un mejor analisis de los datos."
   ]
  },
  {
   "cell_type": "code",
   "execution_count": 5,
   "metadata": {},
   "outputs": [],
   "source": [
    "df_reviews_new = df_reviews.explode('reviews')"
   ]
  },
  {
   "cell_type": "code",
   "execution_count": 6,
   "metadata": {},
   "outputs": [],
   "source": [
    "df_reviews_new = pd.concat([df_reviews_new.drop(['reviews'], axis=1), df_reviews_new['reviews'].apply(pd.Series)], axis=1)"
   ]
  },
  {
   "cell_type": "markdown",
   "metadata": {},
   "source": [
    "Luego eliminare unas columnas las cuales no usaré."
   ]
  },
  {
   "cell_type": "code",
   "execution_count": 7,
   "metadata": {},
   "outputs": [],
   "source": [
    "df_reviews_new.drop(columns=['user_url','posted','funny','last_edited','helpful',0],axis=1,inplace=True)"
   ]
  },
  {
   "cell_type": "markdown",
   "metadata": {},
   "source": [
    "Luego de esto, haré un analisis de datos para verificar si hay datos faltantes, para esto utilizare la extencion de vscode que se llama 'Data Wrangler' y anotare aqui los resultados:\n"
   ]
  },
  {
   "cell_type": "markdown",
   "metadata": {},
   "source": [
    "Al realizar el analisis, note que hay 28 valores nulos en 4 columnas (posted,item_id,recomendend,review) y ahora realizare un dropna para eliminar esos valores faltantes."
   ]
  },
  {
   "cell_type": "code",
   "execution_count": 8,
   "metadata": {},
   "outputs": [],
   "source": [
    "df_reviews_new.dropna(inplace=True)"
   ]
  },
  {
   "cell_type": "markdown",
   "metadata": {},
   "source": [
    "Por ultimo cambiare el nombre de la columna item_id por id_game."
   ]
  },
  {
   "cell_type": "code",
   "execution_count": 9,
   "metadata": {},
   "outputs": [],
   "source": [
    "df_reviews_new.rename({'item_id':'id'},axis=1,inplace=True)"
   ]
  },
  {
   "cell_type": "markdown",
   "metadata": {},
   "source": [
    "Ahora seguire con **df_items**"
   ]
  },
  {
   "cell_type": "markdown",
   "metadata": {},
   "source": [
    "Lo primero que hare sera desanidar la columna items para poder hacer un mejor analisis de datos."
   ]
  },
  {
   "cell_type": "code",
   "execution_count": 10,
   "metadata": {},
   "outputs": [],
   "source": [
    "df_items_explode = df_items.explode('items')"
   ]
  },
  {
   "cell_type": "code",
   "execution_count": 11,
   "metadata": {},
   "outputs": [],
   "source": [
    "df_items_explode.reset_index(inplace=True)"
   ]
  },
  {
   "cell_type": "code",
   "execution_count": 12,
   "metadata": {},
   "outputs": [],
   "source": [
    "df_items_desanidados = pd.json_normalize(df_items_explode['items'])"
   ]
  },
  {
   "cell_type": "code",
   "execution_count": 13,
   "metadata": {},
   "outputs": [],
   "source": [
    "df_items_defined = pd.concat([df_items_explode,df_items_desanidados],axis=1)"
   ]
  },
  {
   "cell_type": "code",
   "execution_count": 14,
   "metadata": {},
   "outputs": [],
   "source": [
    "df_items_defined.drop(columns=['index','items','items_count','steam_id','user_url','playtime_2weeks'],axis=1,inplace=True)"
   ]
  },
  {
   "cell_type": "markdown",
   "metadata": {},
   "source": [
    "ya teniendo nuestro dataframe completamente desanidado, procedere a eliminar datos nulos basandome en las columnas item_id y item_name."
   ]
  },
  {
   "cell_type": "code",
   "execution_count": 15,
   "metadata": {},
   "outputs": [],
   "source": [
    "df_items_defined.dropna(subset=['item_id','item_name'],inplace=True)"
   ]
  },
  {
   "cell_type": "markdown",
   "metadata": {},
   "source": [
    "Por ultimo cambiare el nombre de algunas columnas"
   ]
  },
  {
   "cell_type": "code",
   "execution_count": 16,
   "metadata": {},
   "outputs": [],
   "source": [
    "df_items_defined.rename({'item_id':'id','item_name':'game'},inplace=True,axis=1)"
   ]
  },
  {
   "cell_type": "markdown",
   "metadata": {},
   "source": [
    "Terminare con **df_games**"
   ]
  },
  {
   "cell_type": "markdown",
   "metadata": {},
   "source": [
    "Lo primero que hice fue eliminar las primeras 88310 filas porque eran valores nulos y luego hice un reset_index."
   ]
  },
  {
   "cell_type": "code",
   "execution_count": 18,
   "metadata": {},
   "outputs": [],
   "source": [
    "df_games.drop(df_games.index[0:88310],inplace=True)"
   ]
  },
  {
   "cell_type": "code",
   "execution_count": 19,
   "metadata": {},
   "outputs": [],
   "source": [
    "df_games.reset_index(inplace=True,drop=True)"
   ]
  },
  {
   "cell_type": "markdown",
   "metadata": {},
   "source": [
    "Aqui hare una copia antes de eliminar **Specs y tags** para luego trabajar con mis datos que usare para el sistema de recomendación."
   ]
  },
  {
   "cell_type": "code",
   "execution_count": 20,
   "metadata": {},
   "outputs": [],
   "source": [
    "games = df_games[['genres','app_name','release_date','tags','specs','price','id','developer']]"
   ]
  },
  {
   "cell_type": "markdown",
   "metadata": {},
   "source": [
    "Elimine las columnas que no estaria usando."
   ]
  },
  {
   "cell_type": "code",
   "execution_count": 21,
   "metadata": {},
   "outputs": [],
   "source": [
    "df_games.drop(columns=['url','specs','tags','reviews_url','early_access'],axis=1,inplace=True)"
   ]
  },
  {
   "cell_type": "markdown",
   "metadata": {},
   "source": [
    "Eliminare las filas vacias y dejare solo el año en la columna **release_date**."
   ]
  },
  {
   "cell_type": "code",
   "execution_count": 22,
   "metadata": {},
   "outputs": [],
   "source": [
    "df_games['release_date']=pd.to_datetime(df_games['release_date'],errors=\"coerce\").dt.year"
   ]
  },
  {
   "cell_type": "code",
   "execution_count": 23,
   "metadata": {},
   "outputs": [],
   "source": [
    "df_games.dropna(subset=['release_date'], inplace=True)"
   ]
  },
  {
   "cell_type": "code",
   "execution_count": 24,
   "metadata": {},
   "outputs": [],
   "source": [
    "df_games['release_date'] = df_games['release_date'].astype(int).astype(str)"
   ]
  },
  {
   "cell_type": "markdown",
   "metadata": {},
   "source": [
    "cambiare el nombre de dos columnas "
   ]
  },
  {
   "cell_type": "code",
   "execution_count": 25,
   "metadata": {},
   "outputs": [],
   "source": [
    "df_games.rename({'app_name':'game'},axis=1,inplace=True)"
   ]
  },
  {
   "cell_type": "markdown",
   "metadata": {},
   "source": [
    "reemplazare los valores string en la columna de price que representan que son gratis por el 0."
   ]
  },
  {
   "cell_type": "code",
   "execution_count": 26,
   "metadata": {},
   "outputs": [],
   "source": [
    "replace_dict = {\n",
    "    'Free To Play': 0,\n",
    "    'Free to Play': 0,\n",
    "    'Free': 0,\n",
    "    'Free Demo': 0,\n",
    "    'Play for Free!': 0,\n",
    "    'Install Now': 0,\n",
    "    'Play WARMACHINE: Tactics Demo': 0,\n",
    "    'Free Mod': 0,\n",
    "    'Third-party': 0,\n",
    "    'Play Now': 0,\n",
    "    'Free HITMAN™ Holiday Pack': 0,\n",
    "    'Play the Demo': 0,\n",
    "    'Install Theme':0\n",
    "}\n",
    "df_games['price'].replace(replace_dict, inplace=True)"
   ]
  },
  {
   "cell_type": "markdown",
   "metadata": {},
   "source": [
    "**Aqui comenzare con mi dataframe games para el modelo de recomendación.**"
   ]
  },
  {
   "cell_type": "markdown",
   "metadata": {},
   "source": [
    "hare un dropna para eliminar filas vacias en mi dataframe."
   ]
  },
  {
   "cell_type": "code",
   "execution_count": null,
   "metadata": {},
   "outputs": [
    {
     "name": "stderr",
     "output_type": "stream",
     "text": [
      "C:\\Users\\Win10\\AppData\\Local\\Temp\\ipykernel_15952\\1030695128.py:1: SettingWithCopyWarning: \n",
      "A value is trying to be set on a copy of a slice from a DataFrame\n",
      "\n",
      "See the caveats in the documentation: https://pandas.pydata.org/pandas-docs/stable/user_guide/indexing.html#returning-a-view-versus-a-copy\n",
      "  games.dropna(inplace=True)\n"
     ]
    }
   ],
   "source": [
    "games.dropna(inplace=True)"
   ]
  },
  {
   "cell_type": "markdown",
   "metadata": {},
   "source": [
    "Comenzare desanidando **genres**."
   ]
  },
  {
   "cell_type": "code",
   "execution_count": null,
   "metadata": {},
   "outputs": [],
   "source": [
    "games = games.explode('genres')"
   ]
  },
  {
   "cell_type": "code",
   "execution_count": null,
   "metadata": {},
   "outputs": [],
   "source": [
    "games.dropna(subset=['genres'],inplace=True)"
   ]
  },
  {
   "cell_type": "code",
   "execution_count": null,
   "metadata": {},
   "outputs": [],
   "source": [
    "games.drop_duplicates(subset='id',inplace=True)"
   ]
  },
  {
   "cell_type": "markdown",
   "metadata": {},
   "source": [
    "Ahora hare lo mismo con **specs**."
   ]
  },
  {
   "cell_type": "code",
   "execution_count": null,
   "metadata": {},
   "outputs": [],
   "source": [
    "games = games.explode('specs')"
   ]
  },
  {
   "cell_type": "code",
   "execution_count": null,
   "metadata": {},
   "outputs": [],
   "source": [
    "games.drop_duplicates(subset='id',inplace=True)"
   ]
  },
  {
   "cell_type": "markdown",
   "metadata": {},
   "source": [
    "Ahora hare lo mismo con **tags**."
   ]
  },
  {
   "cell_type": "code",
   "execution_count": null,
   "metadata": {},
   "outputs": [],
   "source": [
    "games = games.explode('tags')"
   ]
  },
  {
   "cell_type": "code",
   "execution_count": null,
   "metadata": {},
   "outputs": [],
   "source": [
    "games.drop_duplicates(subset='id',inplace=True)"
   ]
  },
  {
   "cell_type": "markdown",
   "metadata": {},
   "source": [
    "Reseteo el indice."
   ]
  },
  {
   "cell_type": "code",
   "execution_count": null,
   "metadata": {},
   "outputs": [],
   "source": [
    "games.reset_index(inplace=True,drop=True)"
   ]
  },
  {
   "cell_type": "markdown",
   "metadata": {},
   "source": [
    "Hare una estandarizacion y una clasificacion de la columna price."
   ]
  },
  {
   "cell_type": "code",
   "execution_count": null,
   "metadata": {},
   "outputs": [],
   "source": [
    "replace_dict = {\n",
    "    'Free To Play': 0,\n",
    "    'Free to Play': 0,\n",
    "    'Free': 0,\n",
    "    'Free Demo': 0,\n",
    "    'Play for Free!': 0,\n",
    "    'Install Now': 0,\n",
    "    'Play WARMACHINE: Tactics Demo': 0,\n",
    "    'Free Mod': 0,\n",
    "    'Third-party': 0,\n",
    "    'Play Now': 0,\n",
    "    'Free HITMAN™ Holiday Pack': 0,\n",
    "    'Play the Demo': 0,\n",
    "    'Install Theme':0\n",
    "}\n",
    "games['price'].replace(replace_dict, inplace=True)"
   ]
  },
  {
   "cell_type": "markdown",
   "metadata": {},
   "source": [
    "Luego de estandarizar la columna price, comenzaré con la clasificacion."
   ]
  },
  {
   "cell_type": "markdown",
   "metadata": {},
   "source": [
    "Obtengo la mediana de los precios y etiqueto en base a la mediana."
   ]
  },
  {
   "cell_type": "code",
   "execution_count": null,
   "metadata": {},
   "outputs": [
    {
     "data": {
      "text/plain": [
       "4.99"
      ]
     },
     "execution_count": 109,
     "metadata": {},
     "output_type": "execute_result"
    }
   ],
   "source": [
    "median_price = games['price'].median()\n",
    "median_price"
   ]
  },
  {
   "cell_type": "code",
   "execution_count": null,
   "metadata": {},
   "outputs": [],
   "source": [
    "def etiquetar_precio(valor):\n",
    "    if valor == 0:\n",
    "        return 'gratis'\n",
    "    elif valor <= 4.99:\n",
    "        return \"barato\"\n",
    "    else:\n",
    "        return \"caro\""
   ]
  },
  {
   "cell_type": "code",
   "execution_count": null,
   "metadata": {},
   "outputs": [],
   "source": [
    "games['price'] = games['price'].apply(etiquetar_precio)"
   ]
  },
  {
   "cell_type": "markdown",
   "metadata": {},
   "source": [
    "Paso la estandarizacion a numeros."
   ]
  },
  {
   "cell_type": "code",
   "execution_count": null,
   "metadata": {},
   "outputs": [],
   "source": [
    "price = {'gratis':0,'barato':1,'caro':2}"
   ]
  },
  {
   "cell_type": "code",
   "execution_count": null,
   "metadata": {},
   "outputs": [],
   "source": [
    "games['price'].replace(price,inplace=True)"
   ]
  },
  {
   "cell_type": "markdown",
   "metadata": {},
   "source": [
    "Luego cambio los nombres de las columnas app_name y id."
   ]
  },
  {
   "cell_type": "code",
   "execution_count": null,
   "metadata": {},
   "outputs": [],
   "source": [
    "games.rename({'app_name':'game'},axis=1,inplace=True)"
   ]
  },
  {
   "cell_type": "markdown",
   "metadata": {},
   "source": [
    "Haré una clasificacion numerica a las columnas que estare mostrando para tener un mejor resultado en el modelo de recomendacion."
   ]
  },
  {
   "cell_type": "code",
   "execution_count": null,
   "metadata": {},
   "outputs": [],
   "source": [
    "from sklearn.preprocessing import LabelEncoder\n",
    "le_genres = LabelEncoder()\n",
    "le_date = LabelEncoder()\n",
    "le_specs = LabelEncoder()\n",
    "le_tags = LabelEncoder()\n",
    "le_developer = LabelEncoder()"
   ]
  },
  {
   "cell_type": "code",
   "execution_count": null,
   "metadata": {},
   "outputs": [],
   "source": [
    "games['genres'] = le_genres.fit_transform(games['genres'])\n",
    "games['release_date'] = le_date.fit_transform(games['release_date'])\n",
    "games['specs'] = le_specs.fit_transform(games['specs'])\n",
    "games['tags'] = le_tags.fit_transform(games['tags'])\n",
    "games['developer'] = le_developer.fit_transform(games['developer'])                     "
   ]
  },
  {
   "cell_type": "markdown",
   "metadata": {},
   "source": [
    "Por ultimo creare un csv para cada dataframe con el cual estuve trabajando."
   ]
  },
  {
   "cell_type": "code",
   "execution_count": null,
   "metadata": {},
   "outputs": [],
   "source": [
    "df_reviews_new.to_csv('nueva data/reviews.csv',index=False)"
   ]
  },
  {
   "cell_type": "code",
   "execution_count": null,
   "metadata": {},
   "outputs": [],
   "source": [
    "df_games.to_csv('nueva data/games.csv',index=False)"
   ]
  },
  {
   "cell_type": "code",
   "execution_count": null,
   "metadata": {},
   "outputs": [],
   "source": [
    "games.to_csv('nueva data/games_model.csv',index=False)"
   ]
  },
  {
   "cell_type": "markdown",
   "metadata": {},
   "source": [
    "Para el archivo items lo que hara ser comprimirlo a en un archivo parquet."
   ]
  },
  {
   "cell_type": "markdown",
   "metadata": {},
   "source": [
    "Importamos las librerias que necesitaremos."
   ]
  },
  {
   "cell_type": "code",
   "execution_count": null,
   "metadata": {},
   "outputs": [],
   "source": [
    "import pyarrow as pa\n",
    "import pyarrow.parquet as pq"
   ]
  },
  {
   "cell_type": "code",
   "execution_count": null,
   "metadata": {},
   "outputs": [],
   "source": [
    "# Convierte el DataFrame de pandas a una tabla de pyarrow\n",
    "table = pa.Table.from_pandas(df_items_defined)\n",
    "\n",
    "# Define el nombre de tu archivo Parquet de destino\n",
    "archivo_parquet = 'nueva data/items_parquet.parquet'\n",
    "\n",
    "# Escribe la tabla en formato Parquet\n",
    "pq.write_table(table, archivo_parquet)"
   ]
  },
  {
   "cell_type": "markdown",
   "metadata": {},
   "source": [
    "Aqui terminaria mi EDA, las tranformaciones de los dataframes y carga de archivos."
   ]
  }
 ],
 "metadata": {
  "kernelspec": {
   "display_name": "Python 3",
   "language": "python",
   "name": "python3"
  },
  "language_info": {
   "codemirror_mode": {
    "name": "ipython",
    "version": 3
   },
   "file_extension": ".py",
   "mimetype": "text/x-python",
   "name": "python",
   "nbconvert_exporter": "python",
   "pygments_lexer": "ipython3",
   "version": "3.10.11"
  }
 },
 "nbformat": 4,
 "nbformat_minor": 2
}
